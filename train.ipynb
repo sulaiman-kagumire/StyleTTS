{
 "cells": [
  {
   "cell_type": "code",
   "execution_count": 3,
   "metadata": {},
   "outputs": [
    {
     "name": "stdout",
     "output_type": "stream",
     "text": [
      "Collecting git+https://github.com/resemble-ai/monotonic_align.git\n",
      "  Cloning https://github.com/resemble-ai/monotonic_align.git to /tmp/pip-req-build-bscrj5go\n",
      "  Running command git clone -q https://github.com/resemble-ai/monotonic_align.git /tmp/pip-req-build-bscrj5go\n",
      "  Installing build dependencies ... \u001b[?25ldone\n",
      "\u001b[?25h  Getting requirements to build wheel ... \u001b[?25ldone\n",
      "\u001b[?25h    Preparing wheel metadata ... \u001b[?25ldone\n",
      "\u001b[?25hCollecting munch\n",
      "  Using cached munch-2.5.0-py2.py3-none-any.whl (10 kB)\n",
      "Requirement already satisfied: pyyaml in /usr/lib/python3/dist-packages (5.3.1)\n",
      "Collecting librosa\n",
      "  Downloading librosa-0.10.0.post2-py3-none-any.whl (253 kB)\n",
      "\u001b[K     |████████████████████████████████| 253 kB 801 kB/s eta 0:00:01\n",
      "\u001b[?25hRequirement already satisfied: numpy in /home/sula/.local/lib/python3.8/site-packages (from monotonic-align==1.2) (1.23.5)\n",
      "Requirement already satisfied: six in /usr/lib/python3/dist-packages (from munch) (1.14.0)\n",
      "Collecting lazy-loader>=0.1\n",
      "  Downloading lazy_loader-0.2-py3-none-any.whl (8.6 kB)\n",
      "Processing /home/sula/.cache/pip/wheels/0a/ed/be/49df2538fca496690a024a4374455584d65c2afd6fc3d6e9c7/audioread-3.0.0-py3-none-any.whl\n",
      "Collecting typing-extensions>=4.1.1\n",
      "  Using cached typing_extensions-4.5.0-py3-none-any.whl (27 kB)\n",
      "Collecting scikit-learn>=0.20.0\n",
      "  Downloading scikit_learn-1.2.2-cp38-cp38-manylinux_2_17_x86_64.manylinux2014_x86_64.whl (9.8 MB)\n",
      "\u001b[K     |████████████████████████████████| 9.8 MB 8.4 MB/s eta 0:00:01\n",
      "\u001b[?25hCollecting pooch<1.7,>=1.0\n",
      "  Using cached pooch-1.6.0-py3-none-any.whl (56 kB)\n",
      "Collecting msgpack>=1.0\n",
      "  Downloading msgpack-1.0.5-cp38-cp38-manylinux_2_17_x86_64.manylinux2014_x86_64.whl (322 kB)\n",
      "\u001b[K     |████████████████████████████████| 322 kB 10.4 MB/s eta 0:00:01\n",
      "\u001b[?25hRequirement already satisfied: decorator>=4.3.0 in /home/sula/.local/lib/python3.8/site-packages (from librosa) (5.1.1)\n",
      "Collecting joblib>=0.14\n",
      "  Using cached joblib-1.2.0-py3-none-any.whl (297 kB)\n",
      "Collecting soxr>=0.3.2\n",
      "  Downloading soxr-0.3.5-cp38-cp38-manylinux_2_17_x86_64.manylinux2014_x86_64.whl (1.3 MB)\n",
      "\u001b[K     |████████████████████████████████| 1.3 MB 10.6 MB/s eta 0:00:01\n",
      "\u001b[?25hCollecting soundfile>=0.12.1\n",
      "  Using cached soundfile-0.12.1-py2.py3-none-any.whl (24 kB)\n",
      "Collecting scipy>=1.2.0\n",
      "  Downloading scipy-1.10.1-cp38-cp38-manylinux_2_17_x86_64.manylinux2014_x86_64.whl (34.5 MB)\n",
      "\u001b[K     |████████████████████████████████| 34.5 MB 56 kB/s s eta 0:00:01\n",
      "\u001b[?25hCollecting numba>=0.51.0\n",
      "  Downloading numba-0.56.4-cp38-cp38-manylinux2014_x86_64.manylinux_2_17_x86_64.whl (3.5 MB)\n",
      "\u001b[K     |████████████████████████████████| 3.5 MB 11.1 MB/s eta 0:00:01\n",
      "\u001b[?25hCollecting threadpoolctl>=2.0.0\n",
      "  Using cached threadpoolctl-3.1.0-py3-none-any.whl (14 kB)\n",
      "Requirement already satisfied: packaging>=20.0 in /home/sula/.local/lib/python3.8/site-packages (from pooch<1.7,>=1.0->librosa) (23.0)\n",
      "Requirement already satisfied: requests>=2.19.0 in /usr/lib/python3/dist-packages (from pooch<1.7,>=1.0->librosa) (2.22.0)\n",
      "Collecting appdirs>=1.3.0\n",
      "  Using cached appdirs-1.4.4-py2.py3-none-any.whl (9.6 kB)\n",
      "Collecting cffi>=1.0\n",
      "  Using cached cffi-1.15.1-cp38-cp38-manylinux_2_17_x86_64.manylinux2014_x86_64.whl (442 kB)\n",
      "Collecting llvmlite<0.40,>=0.39.0dev0\n",
      "  Downloading llvmlite-0.39.1-cp38-cp38-manylinux_2_17_x86_64.manylinux2014_x86_64.whl (34.6 MB)\n",
      "\u001b[K     |████████████████████████████████| 34.6 MB 301 kB/s  eta 0:00:01   | 21.6 MB 10.7 MB/s eta 0:00:02\n",
      "\u001b[?25hRequirement already satisfied: importlib-metadata; python_version < \"3.9\" in /home/sula/.local/lib/python3.8/site-packages (from numba>=0.51.0->librosa) (5.1.0)\n",
      "Requirement already satisfied: setuptools in /usr/lib/python3/dist-packages (from numba>=0.51.0->librosa) (45.2.0)\n",
      "Collecting pycparser\n",
      "  Using cached pycparser-2.21-py2.py3-none-any.whl (118 kB)\n",
      "Requirement already satisfied: zipp>=0.5 in /home/sula/.local/lib/python3.8/site-packages (from importlib-metadata; python_version < \"3.9\"->numba>=0.51.0->librosa) (3.11.0)\n",
      "Building wheels for collected packages: monotonic-align\n",
      "  Building wheel for monotonic-align (PEP 517) ... \u001b[?25ldone\n",
      "\u001b[?25h  Created wheel for monotonic-align: filename=monotonic_align-1.2-cp38-cp38-linux_x86_64.whl size=1411612 sha256=cab3940a6dec7684a0bab7bf1e002230680e5c5d2278232c570dc9d6a60b89ea\n",
      "  Stored in directory: /tmp/pip-ephem-wheel-cache-nvxk4myo/wheels/03/93/6b/a624e8cddc8fa229be3469d1f42a38de5d2d8e5d040c28292d\n",
      "Successfully built monotonic-align\n",
      "Installing collected packages: munch, lazy-loader, audioread, typing-extensions, scipy, threadpoolctl, joblib, scikit-learn, appdirs, pooch, msgpack, soxr, pycparser, cffi, soundfile, llvmlite, numba, librosa, monotonic-align\n",
      "Successfully installed appdirs-1.4.4 audioread-3.0.0 cffi-1.15.1 joblib-1.2.0 lazy-loader-0.2 librosa-0.10.0.post2 llvmlite-0.39.1 monotonic-align-1.2 msgpack-1.0.5 munch-2.5.0 numba-0.56.4 pooch-1.6.0 pycparser-2.21 scikit-learn-1.2.2 scipy-1.10.1 soundfile-0.12.1 soxr-0.3.5 threadpoolctl-3.1.0 typing-extensions-4.5.0\n"
     ]
    }
   ],
   "source": [
    "!pip install munch pyyaml librosa git+https://github.com/resemble-ai/monotonic_align.git"
   ]
  },
  {
   "cell_type": "code",
   "execution_count": 2,
   "metadata": {},
   "outputs": [
    {
     "name": "stdout",
     "output_type": "stream",
     "text": [
      "/bin/bash: conda: command not found\n"
     ]
    }
   ],
   "source": [
    "!conda list"
   ]
  },
  {
   "cell_type": "code",
   "execution_count": 4,
   "metadata": {},
   "outputs": [
    {
     "name": "stdout",
     "output_type": "stream",
     "text": [
      "Collecting g2p_en\n",
      "  Using cached g2p_en-2.1.0-py3-none-any.whl (3.1 MB)\n",
      "Requirement already satisfied: numpy>=1.13.1 in /home/sula/.local/lib/python3.8/site-packages (from g2p_en) (1.23.5)\n",
      "Collecting inflect>=0.3.1\n",
      "  Downloading inflect-6.0.4-py3-none-any.whl (34 kB)\n",
      "Collecting distance>=0.1.3\n",
      "  Using cached Distance-0.1.3.tar.gz (180 kB)\n",
      "Collecting nltk>=3.2.4\n",
      "  Downloading nltk-3.8.1-py3-none-any.whl (1.5 MB)\n",
      "\u001b[K     |████████████████████████████████| 1.5 MB 1.1 MB/s eta 0:00:01\n",
      "\u001b[?25hCollecting pydantic>=1.9.1\n",
      "  Downloading pydantic-1.10.7-cp38-cp38-manylinux_2_17_x86_64.manylinux2014_x86_64.whl (3.2 MB)\n",
      "\u001b[K     |████████████████████████████████| 3.2 MB 11.1 MB/s eta 0:00:01\n",
      "\u001b[?25hCollecting tqdm\n",
      "  Downloading tqdm-4.65.0-py3-none-any.whl (77 kB)\n",
      "\u001b[K     |████████████████████████████████| 77 kB 5.1 MB/s  eta 0:00:01\n",
      "\u001b[?25hRequirement already satisfied: click in /usr/lib/python3/dist-packages (from nltk>=3.2.4->g2p_en) (7.0)\n",
      "Requirement already satisfied: joblib in /home/sula/.local/lib/python3.8/site-packages (from nltk>=3.2.4->g2p_en) (1.2.0)\n",
      "Collecting regex>=2021.8.3\n",
      "  Downloading regex-2023.3.23-cp38-cp38-manylinux_2_17_x86_64.manylinux2014_x86_64.whl (771 kB)\n",
      "\u001b[K     |████████████████████████████████| 771 kB 10.9 MB/s eta 0:00:01\n",
      "\u001b[?25hRequirement already satisfied: typing-extensions>=4.2.0 in /home/sula/.local/lib/python3.8/site-packages (from pydantic>=1.9.1->inflect>=0.3.1->g2p_en) (4.5.0)\n",
      "Building wheels for collected packages: distance\n",
      "  Building wheel for distance (setup.py) ... \u001b[?25ldone\n",
      "\u001b[?25h  Created wheel for distance: filename=Distance-0.1.3-py3-none-any.whl size=16261 sha256=e211e471cb17cd92f3e39c47deab5f8628f4c540a8782300b4a11c39daaedb05\n",
      "  Stored in directory: /home/sula/.cache/pip/wheels/fb/a8/64/6edcab63ec51512a87cacf9b3563c711ad6b7b05d61b704493\n",
      "Successfully built distance\n",
      "Installing collected packages: pydantic, inflect, distance, tqdm, regex, nltk, g2p-en\n",
      "Successfully installed distance-0.1.3 g2p-en-2.1.0 inflect-6.0.4 nltk-3.8.1 pydantic-1.10.7 regex-2023.3.23 tqdm-4.65.0\n"
     ]
    }
   ],
   "source": [
    "!pip install g2p_en"
   ]
  },
  {
   "cell_type": "code",
   "execution_count": 6,
   "metadata": {},
   "outputs": [
    {
     "name": "stdout",
     "output_type": "stream",
     "text": [
      "['DH', 'AH0', ' ', 'OW2', 'V', 'ER0', 'W', 'EH1', 'L', 'M', 'IH0', 'NG', ' ', 'M', 'AH0', 'JH', 'AO1', 'R', 'AH0', 'T', 'IY0', ' ', 'AH1', 'V', ' ', 'P', 'IY1', 'P', 'AH0', 'L', ' ', 'IH0', 'N', ' ', 'DH', 'IH1', 'S', ' ', 'K', 'AH1', 'N', 'T', 'R', 'IY0', ' ', 'N', 'OW1', ' ', 'HH', 'AW1', ' ', 'T', 'UW1', ' ', 'S', 'IH1', 'F', 'T', ' ', 'DH', 'AH0', ' ', 'W', 'IY1', 'T', ' ', 'F', 'R', 'AH1', 'M', ' ', 'DH', 'AH0', ' ', 'CH', 'AE1', 'F', ' ', 'IH0', 'N', ' ', 'W', 'AH1', 'T', ' ', 'DH', 'EY1', ' ', 'HH', 'IY1', 'R', ' ', 'AH0', 'N', 'D', ' ', 'W', 'AH1', 'T', ' ', 'DH', 'EY1', ' ', 'R', 'EH1', 'D', ' ', '.']\n"
     ]
    }
   ],
   "source": [
    "from g2p_en import G2p\n",
    "\n",
    "texts = [\"The overwhelming majority of people in this country know how to sift the wheat from the chaff in what they hear and what they read.\"]\n",
    "g2p = G2p()\n",
    "for text in texts:\n",
    "    out = g2p(text)\n",
    "    print(out)"
   ]
  },
  {
   "cell_type": "code",
   "execution_count": null,
   "metadata": {},
   "outputs": [],
   "source": []
  }
 ],
 "metadata": {
  "kernelspec": {
   "display_name": "Python 3",
   "language": "python",
   "name": "python3"
  },
  "language_info": {
   "codemirror_mode": {
    "name": "ipython",
    "version": 3
   },
   "file_extension": ".py",
   "mimetype": "text/x-python",
   "name": "python",
   "nbconvert_exporter": "python",
   "pygments_lexer": "ipython3",
   "version": "3.8.10"
  },
  "orig_nbformat": 4,
  "vscode": {
   "interpreter": {
    "hash": "916dbcbb3f70747c44a77c7bcd40155683ae19c65e1c03b4aa3499c5328201f1"
   }
  }
 },
 "nbformat": 4,
 "nbformat_minor": 2
}
